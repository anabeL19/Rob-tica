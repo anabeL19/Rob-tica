{
 "cells": [
  {
   "cell_type": "code",
   "execution_count": 19,
   "metadata": {},
   "outputs": [
    {
     "name": "stdout",
     "output_type": "stream",
     "text": [
      "Recompenzas:\n",
      "0 0\n",
      "---------------------------\n",
      "-1.00|-1.00|-1.00|-1.00|\n",
      "---------------------------\n",
      "-1.00|-1.00|-1.00|-1.00|\n",
      "---------------------------\n",
      "-1.00|-1.00|-1.00|-1.00|\n",
      "---------------------------\n",
      "-1.00|-1.00|-1.00|-1.00|\n"
     ]
    }
   ],
   "source": [
    "import numpy as np\n",
    "from GridWorld import standard_grid, negative_grid,print_values, print_policy\n",
    "\n",
    "SMALL_ENOUGH = 1e-3\n",
    "GAMMA = 0.9\n",
    "ALL_POSSIBLE_ACTIONS = ('U', 'D', 'L', 'R')\n",
    "# this grid gives you a reward of -0.1\n",
    "# to find a shorter path to the goal, use negative grid\n",
    "grid = negative_grid()\n",
    "print(grid.i, grid.j)\n",
    "print(\"Recompenzas:\")\n",
    "print_values(grid.rewards, grid)"
   ]
  },
  {
   "cell_type": "code",
   "execution_count": 20,
   "metadata": {},
   "outputs": [],
   "source": [
    "# state -> action\n",
    "# choose an action and update randomly \n",
    "policy = {}\n",
    "for s in grid.actions.keys():\n",
    "    policy[s] = np.random.choice(ALL_POSSIBLE_ACTIONS)"
   ]
  },
  {
   "cell_type": "code",
   "execution_count": 21,
   "metadata": {},
   "outputs": [
    {
     "name": "stdout",
     "output_type": "stream",
     "text": [
      "Política inicial:\n",
      "---------------------------\n",
      "  R  |  L  |  R  |  U  |\n",
      "---------------------------\n",
      "  D  |  L  |  L  |  R  |\n",
      "---------------------------\n",
      "  L  |  D  |  D  |  D  |\n",
      "---------------------------\n",
      "  U  |  R  |  U  |     |\n"
     ]
    }
   ],
   "source": [
    "# initial policy\n",
    "print(\"Política inicial:\")\n",
    "print_policy(policy, grid)"
   ]
  },
  {
   "cell_type": "code",
   "execution_count": 22,
   "metadata": {},
   "outputs": [
    {
     "name": "stdout",
     "output_type": "stream",
     "text": [
      "s (0, 1)\n",
      "s (1, 2)\n",
      "s (2, 1)\n",
      "s (3, 1)\n",
      "s (0, 2)\n",
      "s (2, 2)\n",
      "s (1, 0)\n",
      "s (3, 2)\n",
      "s (1, 3)\n",
      "s (0, 0)\n",
      "s (1, 1)\n",
      "s (0, 3)\n",
      "s (2, 0)\n",
      "s (3, 0)\n",
      "s (2, 3)\n",
      "s (3, 3)\n",
      "---------------------------\n",
      " 0.07| 0.16| 0.05| 0.19|\n",
      "---------------------------\n",
      " 0.44| 0.59| 0.80| 0.46|\n",
      "---------------------------\n",
      " 0.60| 0.98| 0.16| 0.70|\n",
      "---------------------------\n",
      " 0.33| 1.00| 0.29| 0.00|\n"
     ]
    }
   ],
   "source": [
    "# initialize V(s) - value function\n",
    "V = {}\n",
    "states = grid.all_states()\n",
    "for s in states:\n",
    "    print('s',s)\n",
    "    # V[s] = 0\n",
    "    if s in grid.actions:\n",
    "        V[s] = np.random.random()\n",
    "    else:\n",
    "        # terminal state\n",
    "        V[s] = 0\n",
    "\n",
    "# initial value for all states in grid\n",
    "print_values(V, grid)"
   ]
  },
  {
   "cell_type": "code",
   "execution_count": 23,
   "metadata": {},
   "outputs": [
    {
     "name": "stdout",
     "output_type": "stream",
     "text": [
      "Valores 1: \n",
      "---------------------------\n",
      " 0.07| 0.16| 0.05| 0.19|\n",
      "---------------------------\n",
      " 0.44| 0.59| 0.80| 0.46|\n",
      "---------------------------\n",
      " 0.60| 0.98| 0.16| 0.70|\n",
      "---------------------------\n",
      " 0.33| 1.00| 0.29| 0.00|\n",
      "Política 1: \n",
      "---------------------------\n",
      "  R  |  L  |  R  |  U  |\n",
      "---------------------------\n",
      "  D  |  L  |  L  |  R  |\n",
      "---------------------------\n",
      "  L  |  D  |  D  |  D  |\n",
      "---------------------------\n",
      "  U  |  R  |  U  |     |\n",
      "Valores 2: \n",
      "---------------------------\n",
      "-10.00|-10.00|-9.99|-9.99|\n",
      "---------------------------\n",
      "-9.99|-9.99|-9.99|-9.99|\n",
      "---------------------------\n",
      "-9.99|-9.99|-9.99|-9.99|\n",
      "---------------------------\n",
      "-9.99|-9.99|-9.99| 0.00|\n",
      "Política 2: \n",
      "---------------------------\n",
      "  R  |  R  |  U  |  D  |\n",
      "---------------------------\n",
      "  U  |  D  |  R  |  D  |\n",
      "---------------------------\n",
      "  R  |  D  |  L  |  D  |\n",
      "---------------------------\n",
      "  U  |  U  |  U  |     |\n",
      "Valores 3: \n",
      "---------------------------\n",
      "-9.99|-9.99|-9.99|-9.99|\n",
      "---------------------------\n",
      "-9.99|-9.99|-9.99|-9.99|\n",
      "---------------------------\n",
      "-9.99|-9.99|-9.99|-9.99|\n",
      "---------------------------\n",
      "-9.99|-9.99|-9.99| 0.00|\n",
      "Política 3: \n",
      "---------------------------\n",
      "  R  |  U  |  U  |  D  |\n",
      "---------------------------\n",
      "  U  |  D  |  U  |  D  |\n",
      "---------------------------\n",
      "  R  |  D  |  L  |  U  |\n",
      "---------------------------\n",
      "  R  |  U  |  U  |     |\n",
      "Valores 4: \n",
      "---------------------------\n",
      "-10.00|-10.00|-10.00|-10.00|\n",
      "---------------------------\n",
      "-10.00|-10.00|-10.00|-10.00|\n",
      "---------------------------\n",
      "-10.00|-9.99|-10.00|-10.00|\n",
      "---------------------------\n",
      "-10.00|-10.00|-10.00| 0.00|\n",
      "Política 4: \n",
      "---------------------------\n",
      "  R  |  U  |  U  |  L  |\n",
      "---------------------------\n",
      "  U  |  D  |  U  |  L  |\n",
      "---------------------------\n",
      "  R  |  D  |  L  |  L  |\n",
      "---------------------------\n",
      "  R  |  U  |  U  |     |\n"
     ]
    }
   ],
   "source": [
    "\n",
    "iteration=0\n",
    "# repeat until convergence\n",
    "# when policy does not change, it will finish\n",
    "while True:\n",
    "    iteration+=1\n",
    "    print(\"Valores %d: \" % iteration)\n",
    "    print_values(V, grid)\n",
    "    print(\"Política %d: \" % iteration)\n",
    "    print_policy(policy, grid)\n",
    "\n",
    "    # policy evaluation step\n",
    "    while True:\n",
    "        biggest_change = 0\n",
    "        for s in states:\n",
    "              old_v = V[s]\n",
    "\n",
    "              # V(s) only has value if it's not a terminal state\n",
    "              if s in policy:\n",
    "                a = policy[s]\n",
    "                grid.set_state(s)\n",
    "                r = grid.move(a) #reward\n",
    "                V[s] = r + GAMMA * V[grid.current_state()]\n",
    "                biggest_change = max(biggest_change, np.abs(old_v - V[s]))\n",
    "\n",
    "        if biggest_change < SMALL_ENOUGH:\n",
    "              break\n",
    "\n",
    "    # policy improvement step\n",
    "    is_policy_converged = True\n",
    "    for s in states:\n",
    "        if s in policy:\n",
    "            old_a = policy[s]\n",
    "            new_a = None\n",
    "            best_value = float('-inf')\n",
    "            # loop through all possible actions to find the best current action\n",
    "            for a in ALL_POSSIBLE_ACTIONS:\n",
    "                grid.set_state(s)\n",
    "                r = grid.move(a)\n",
    "                v = r + GAMMA * V[grid.current_state()]\n",
    "                if v > best_value:\n",
    "                    best_value = v\n",
    "                    new_a = a\n",
    "            policy[s] = new_a\n",
    "            if new_a != old_a:\n",
    "                is_policy_converged = False\n",
    "\n",
    "    if is_policy_converged:\n",
    "        break"
   ]
  },
  {
   "cell_type": "code",
   "execution_count": 24,
   "metadata": {},
   "outputs": [
    {
     "name": "stdout",
     "output_type": "stream",
     "text": [
      "Valores finales:\n",
      "---------------------------\n",
      "-10.00|-10.00|-10.00|-10.00|\n",
      "---------------------------\n",
      "-10.00|-10.00|-10.00|-10.00|\n",
      "---------------------------\n",
      "-10.00|-10.00|-10.00|-10.00|\n",
      "---------------------------\n",
      "-10.00|-10.00|-10.00| 0.00|\n",
      "Política final:\n",
      "---------------------------\n",
      "  R  |  U  |  U  |  L  |\n",
      "---------------------------\n",
      "  U  |  D  |  U  |  L  |\n",
      "---------------------------\n",
      "  R  |  D  |  L  |  L  |\n",
      "---------------------------\n",
      "  R  |  U  |  U  |     |\n"
     ]
    }
   ],
   "source": [
    "print(\"Valores finales:\")\n",
    "print_values(V, grid)\n",
    "print(\"Política final:\")\n",
    "print_policy(policy, grid)"
   ]
  },
  {
   "cell_type": "code",
   "execution_count": null,
   "metadata": {},
   "outputs": [],
   "source": []
  }
 ],
 "metadata": {
  "kernelspec": {
   "display_name": "Python 3",
   "language": "python",
   "name": "python3"
  },
  "language_info": {
   "codemirror_mode": {
    "name": "ipython",
    "version": 3
   },
   "file_extension": ".py",
   "mimetype": "text/x-python",
   "name": "python",
   "nbconvert_exporter": "python",
   "pygments_lexer": "ipython3",
   "version": "3.8.5"
  }
 },
 "nbformat": 4,
 "nbformat_minor": 4
}
